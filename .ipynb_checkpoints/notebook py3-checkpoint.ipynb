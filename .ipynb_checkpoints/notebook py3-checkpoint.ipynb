{
 "cells": [
  {
   "cell_type": "code",
   "execution_count": 53,
   "metadata": {
    "collapsed": false,
    "deletable": true,
    "editable": true
   },
   "outputs": [
    {
     "name": "stdout",
     "output_type": "stream",
     "text": [
      "$(?![0-9])(\\w)+$((\\.)*|(\\:)?)$(?![0-9])(\\w)+$\n",
      "None\n"
     ]
    }
   ],
   "source": [
    "import shlex\n",
    "import sys\n",
    "import re\n",
    "\n",
    "name = re.compile('(?![0-9])(\\w)+')\n",
    "namelist = re.compile(name.pattern + '(\\,' + name.pattern + ')*$')\n",
    "parlist = re.compile()\n",
    "funcbody = re.compile('')\n",
    "#^(?![0-9])[\\w]+((\\.[\\w]+)*|(\\:[\\w]+)?)$\n",
    "funcname = re.compile(name.pattern + '((\\.)*|(\\:)?)' + name.pattern + '$')\n",
    "parlist = re.compile('^[a-z]+((\\,[a-z]+)*)$')\n",
    "\n",
    "def tokenize(inputfile):\n",
    "    lexer = shlex.shlex(inputfile)\n",
    "    return lexer\n",
    "\n",
    "def parseBlock(lexer):\n",
    "    return ''\n",
    "\n",
    "def parseEnd(lexer):\n",
    "    token = lexer.get_token()\n",
    "    if(token == 'end'):\n",
    "        return token\n",
    "    else:\n",
    "        print('an error')\n",
    "        return '' #error \n",
    "\n",
    "def parseParlist(lexer):\n",
    "    token = lexer.get_token()\n",
    "    return token\n",
    "\n",
    "def parseParlist(lexer):\n",
    "    token = lexer.get_token()\n",
    "    if (token == '...'):\n",
    "        return '...'\n",
    "    elif (parlist.match(token)):\n",
    "        return token\n",
    "    else:\n",
    "        return token #error\n",
    "\n",
    "def parseFuncbody(lexer):\n",
    "    token = lexer.get_token()\n",
    "    if (token == '('):\n",
    "        return '(' + parseParlist(lexer) + parseFuncbody(lexer)\n",
    "    elif (token == ')'):\n",
    "        return token + parseBlock(lexer) + parseEnd(lexer)\n",
    "    else:\n",
    "        return token #error\n",
    "    return parseParlist(lexer) + parseBlock(lexer) + parseEnd(lexer)\n",
    "\n",
    "def parseFuncname(lexer):\n",
    "    token = lexer.get_token()\n",
    "    if (funcname.match(token)):\n",
    "        return token\n",
    "    return '' #error\n",
    "\n",
    "def parseChunk(lexer):\n",
    "    token = lexer.get_token();\n",
    "    if (token == lexer.eof):\n",
    "        return ''\n",
    "    elif (token == 'function'):\n",
    "        return 'function' + parseFuncname(lexer) + parseFuncbody(lexer) + parseChunk(lexer)\n",
    "    else:\n",
    "        return token + parseChunk(lexer)\n",
    "\n",
    "def parseBinop(token):\n",
    "    return token;\n",
    "\n",
    "def parse(filename):\n",
    "    inputfile = open (filename, 'rt').read()\n",
    "    lexer = tokenize(inputfile)\n",
    "    print(funcname.pattern)\n",
    "    print(funcname.match('testing.tes8ting.8testing'))\n",
    "\n",
    "parse('sample.lua')\n",
    "\n",
    "# if __name__ == \"__main__\":\n",
    "#     import sys\n",
    "#     parse(sys.argv[1])"
   ]
  },
  {
   "cell_type": "code",
   "execution_count": null,
   "metadata": {
    "collapsed": true,
    "deletable": true,
    "editable": true
   },
   "outputs": [],
   "source": []
  }
 ],
 "metadata": {
  "kernelspec": {
   "display_name": "Python 3",
   "language": "python",
   "name": "python3"
  },
  "language_info": {
   "codemirror_mode": {
    "name": "ipython",
    "version": 3
   },
   "file_extension": ".py",
   "mimetype": "text/x-python",
   "name": "python",
   "nbconvert_exporter": "python",
   "pygments_lexer": "ipython3",
   "version": "3.6.0"
  }
 },
 "nbformat": 4,
 "nbformat_minor": 2
}
