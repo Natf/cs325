{
 "cells": [
  {
   "cell_type": "code",
   "execution_count": 57,
   "metadata": {
    "collapsed": false,
    "deletable": true,
    "editable": true
   },
   "outputs": [
    {
     "ename": "SyntaxError",
     "evalue": "invalid syntax (<ipython-input-57-80ef0add291d>, line 43)",
     "output_type": "error",
     "traceback": [
      "\u001b[0;36m  File \u001b[0;32m\"<ipython-input-57-80ef0add291d>\"\u001b[0;36m, line \u001b[0;32m43\u001b[0m\n\u001b[0;31m    elif()\u001b[0m\n\u001b[0m          ^\u001b[0m\n\u001b[0;31mSyntaxError\u001b[0m\u001b[0;31m:\u001b[0m invalid syntax\n"
     ]
    }
   ],
   "source": [
    "import shlex\n",
    "import sys\n",
    "import re\n",
    "\n",
    "name = re.compile('(?![0-9])(\\w)+$')\n",
    "\n",
    "def tokenize(inputfile):\n",
    "    lexer = shlex.shlex(inputfile)\n",
    "    return lexer\n",
    "\n",
    "def checkTokenOptional(lexer, optional):\n",
    "    lexerOriginal = lexer.cp()\n",
    "    token = lexer.get_token()\n",
    "    currentCheck = token\n",
    "    while(currentCheck != lexer.eof):\n",
    "        if(currentCheck == optional):\n",
    "            return optional\n",
    "        token = lexer.get_token()\n",
    "        currentCheck = currentCheck + token\n",
    "        \n",
    "    lexer = lexerOriginal.cp()\n",
    "    return -1\n",
    "\n",
    "def parseBlock(lexer):\n",
    "    return ''\n",
    "\n",
    "def parseEnd(lexer):\n",
    "    token = lexer.get_token()\n",
    "    if(token == 'end'):\n",
    "        return token\n",
    "    else:\n",
    "        print('an error')\n",
    "        return '' #error \n",
    "    \n",
    "def parseNameList(lexer, optional):\n",
    "\n",
    "def parseParlist(lexer, optional):\n",
    "    optional = checkTokenOptional(lexer, optional)\n",
    "    if(optional != -1):\n",
    "        return optional\n",
    "    token = lexer.get_token()\n",
    "    if (token == ','):\n",
    "        return parseNamelist(lexer , ',...')\n",
    "    elif (checkTokenOptional(lexer, '...') == '...')\n",
    "        return '...'\n",
    "    else:\n",
    "        return token #error\n",
    "\n",
    "def parseFuncbody(lexer):\n",
    "    token = lexer.get_token()\n",
    "    if (token == '('):\n",
    "        return '(' + parseParlist(lexer, ')') + parseFuncbody(lexer)\n",
    "    elif (token == ')'):\n",
    "        return token + parseBlock(lexer) + parseEnd(lexer)\n",
    "    else:\n",
    "        return token #error\n",
    "    return parseParlist(lexer) + parseBlock(lexer) + parseEnd(lexer)\n",
    "\n",
    "def parseFuncname(lexer):\n",
    "    token = lexer.get_token()\n",
    "    if (funcname.match(token)):\n",
    "        return token\n",
    "    return '' #error\n",
    "\n",
    "def parseChunk(lexer):\n",
    "    token = lexer.get_token();\n",
    "    if (token == lexer.eof):\n",
    "        return ''\n",
    "    elif (token == 'function'):\n",
    "        return 'function' + parseFuncname(lexer) + parseFuncbody(lexer) + parseChunk(lexer)\n",
    "    else:\n",
    "        return token + parseChunk(lexer)\n",
    "\n",
    "def parseBinop(token):\n",
    "    return token;\n",
    "\n",
    "def parse(filename):\n",
    "    inputfile = open (filename, 'rt').read()\n",
    "    lexer = tokenize(inputfile)\n",
    "    for token in lexer: print(token)\n",
    "#     print(funcname.pattern)\n",
    "#     print(funcname.match('testing.tes8ting.8testing'))\n",
    "\n",
    "parse('sample.lua')\n",
    "\n",
    "# if __name__ == \"__main__\":\n",
    "#     import sys\n",
    "#     parse(sys.argv[1])"
   ]
  },
  {
   "cell_type": "code",
   "execution_count": null,
   "metadata": {
    "collapsed": true,
    "deletable": true,
    "editable": true
   },
   "outputs": [],
   "source": []
  }
 ],
 "metadata": {
  "kernelspec": {
   "display_name": "Python 3",
   "language": "python",
   "name": "python3"
  },
  "language_info": {
   "codemirror_mode": {
    "name": "ipython",
    "version": 3
   },
   "file_extension": ".py",
   "mimetype": "text/x-python",
   "name": "python",
   "nbconvert_exporter": "python",
   "pygments_lexer": "ipython3",
   "version": "3.6.0"
  }
 },
 "nbformat": 4,
 "nbformat_minor": 2
}
